{
  "nbformat": 4,
  "nbformat_minor": 0,
  "metadata": {
    "colab": {
      "provenance": [],
      "authorship_tag": "ABX9TyNmQrAH9PU51fXQfxTveHPv",
      "include_colab_link": true
    },
    "kernelspec": {
      "name": "python3",
      "display_name": "Python 3"
    },
    "language_info": {
      "name": "python"
    }
  },
  "cells": [
    {
      "cell_type": "markdown",
      "metadata": {
        "id": "view-in-github",
        "colab_type": "text"
      },
      "source": [
        "<a href=\"https://colab.research.google.com/github/Sreenavya04/probability/blob/main/LAB_07(HYPOTHESIS).ipynb\" target=\"_parent\"><img src=\"https://colab.research.google.com/assets/colab-badge.svg\" alt=\"Open In Colab\"/></a>"
      ]
    },
    {
      "cell_type": "code",
      "execution_count": 4,
      "metadata": {
        "colab": {
          "base_uri": "https://localhost:8080/"
        },
        "id": "Li5wlf68iquT",
        "outputId": "07e8576a-8105-41b7-d7a0-987f2f37b368"
      },
      "outputs": [
        {
          "output_type": "stream",
          "name": "stdout",
          "text": [
            "Sample Mean: 27466.666666666668\n",
            "Sample Standard Deviation: 3748.650550849059\n",
            "95% Confidence Interval: (25390.733185830333, 29542.600147503003)\n",
            "Do we reject the null hypothesis? Yes\n"
          ]
        }
      ],
      "source": [
        "import numpy as np\n",
        "import scipy.stats as stats\n",
        "data = np.array([25000, 31000, 20000, 28000, 29500, 32000, 21000, 30500, 27000, 28500, 30000, 23000, 31000, 26000, 29500])\n",
        "# 1. Compute the sample mean and standard deviation\n",
        "sample_mean = np.mean(data)\n",
        "sample_std = np.std(data, ddof=1)  # Using ddof=1 for sample standard deviation\n",
        "sample_size = len(data)\n",
        "# 2. Calculate the 95% confidence interval for the sample mean\n",
        "confidence_level = 0.95\n",
        "alpha = 1 - confidence_level\n",
        "t_critical = stats.t.ppf(1 - alpha/2, df=sample_size-1)  # t-critical value\n",
        "margin_of_error = t_critical * (sample_std / np.sqrt(sample_size))\n",
        "confidence_interval = (sample_mean - margin_of_error, sample_mean + margin_of_error)\n",
        "\n",
        "# 3. Hypothesis test (using the confidence interval)\n",
        "reject_null = 30000 < confidence_interval[0] or 30000 > confidence_interval[1]\n",
        "print(f\"Sample Mean: {sample_mean}\")\n",
        "print(f\"Sample Standard Deviation: {sample_std}\")\n",
        "print(f\"95% Confidence Interval: {confidence_interval}\")\n",
        "print(f\"Do we reject the null hypothesis? {'Yes' if reject_null else 'No'}\")"
      ]
    },
    {
      "cell_type": "code",
      "source": [],
      "metadata": {
        "id": "sglfWXawlok2"
      },
      "execution_count": null,
      "outputs": []
    }
  ]
}